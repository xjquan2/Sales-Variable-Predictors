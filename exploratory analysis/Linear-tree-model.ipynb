{
 "cells": [
  {
   "cell_type": "code",
   "execution_count": 2,
   "id": "2628dbaa",
   "metadata": {},
   "outputs": [],
   "source": [
    "%matplotlib inline\n",
    "\n",
    "import pandas as pd  \n",
    "import numpy as np\n",
    "\n",
    "from sklearn.model_selection import train_test_split, GridSearchCV\n",
    "\n",
    "from sklearn.preprocessing import StandardScaler, MinMaxScaler\n",
    "\n",
    "from sklearn.linear_model import LinearRegression, LassoCV, RidgeCV, ElasticNetCV\n",
    "\n",
    "from sklearn.tree import DecisionTreeRegressor\n",
    "\n",
    "from sklearn.ensemble import RandomForestRegressor\n",
    "\n",
    "from sklearn.linear_model import Lasso\n",
    "\n",
    "import matplotlib.pyplot as plt\n",
    "import seaborn as sns\n",
    "import missingno as msno\n",
    "\n",
    "%matplotlib inline\n",
    "from dmba import regressionSummary, adjusted_r2_score, plotDecisionTree"
   ]
  },
  {
   "cell_type": "code",
   "execution_count": 3,
   "id": "67964b19",
   "metadata": {},
   "outputs": [],
   "source": [
    "data_df = pd.read_csv(\"historical_data.csv\")\n"
   ]
  },
  {
   "cell_type": "code",
   "execution_count": 4,
   "id": "fcecea91",
   "metadata": {},
   "outputs": [
    {
     "name": "stdout",
     "output_type": "stream",
     "text": [
      "Index(['Type', 'Immediate_vs_Future', 'Segment', 'Package_Type', 'Mega_Flavor',\n",
      "       'Seasonality', 'q2_2018', 'q3_2018', 'q4_2018', 'q1_2019'],\n",
      "      dtype='object')\n",
      "10\n"
     ]
    }
   ],
   "source": [
    "X = data_df.drop(columns=['sales'])\n",
    "y = data_df['sales']\n",
    "\n",
    "print(X.columns)\n",
    "print(len(X.columns))"
   ]
  },
  {
   "cell_type": "code",
   "execution_count": 5,
   "id": "fc2e9b24",
   "metadata": {},
   "outputs": [
    {
     "name": "stdout",
     "output_type": "stream",
     "text": [
      "Index(['q2_2018', 'q3_2018', 'q4_2018', 'q1_2019', 'Type_AO CHEWY',\n",
      "       'Type_ASSORTMENT MIXES', 'Type_CANDY CANE', 'Type_CANDY CORN',\n",
      "       'Type_CONVERSATION HEARTS', 'Type_FRUITY CHEWY', 'Type_GUMMY',\n",
      "       'Type_HARD CANDY', 'Type_JELLY BEANS', 'Type_LICORICE', 'Type_LOLLIPOP',\n",
      "       'Type_NOVELTY', 'Type_NUT', 'Immediate_vs_Future_IMMEDIATE',\n",
      "       'Segment_CLASSIC FAVORITES', 'Segment_ETHNIC', 'Segment_GUMMY',\n",
      "       'Segment_KIDS NOVELTY', 'Segment_LICORICE', 'Segment_MAINLINE',\n",
      "       'Segment_NOT APPLICABLE', 'Segment_NUT', 'Segment_SUGAR FREE CANDY',\n",
      "       'Package_Type_BOX', 'Package_Type_CHANGEMAKER',\n",
      "       'Package_Type_LAYDOWN BAG', 'Package_Type_PEG BAG',\n",
      "       'Package_Type_SHARE SIZE', 'Package_Type_SINGLE SIZE',\n",
      "       'Package_Type_STANDUP BAG', 'Package_Type_THEATER BOX',\n",
      "       'Package_Type_TUB', 'Mega_Flavor_ASSORTED', 'Mega_Flavor_CARAMEL',\n",
      "       'Mega_Flavor_FRUIT', 'Mega_Flavor_NUT', 'Mega_Flavor_SOUR',\n",
      "       'Seasonality_SEASONAL'],\n",
      "      dtype='object')\n"
     ]
    },
    {
     "data": {
      "text/plain": [
       "42"
      ]
     },
     "execution_count": 5,
     "metadata": {},
     "output_type": "execute_result"
    }
   ],
   "source": [
    "X = pd.get_dummies(X, drop_first = True)\n",
    "\n",
    "print(X.columns)\n",
    "len(X.columns)"
   ]
  },
  {
   "cell_type": "code",
   "execution_count": 6,
   "id": "a19d40fd",
   "metadata": {},
   "outputs": [],
   "source": [
    "train_X, valid_X, train_y, valid_y = train_test_split(X, y, test_size=0.5, random_state=1)\n"
   ]
  },
  {
   "cell_type": "code",
   "execution_count": 7,
   "id": "f9b9fdfd",
   "metadata": {},
   "outputs": [],
   "source": [
    "scaler = StandardScaler()\n",
    "train_X=scaler.fit_transform(train_X)\n",
    "valid_X=scaler.transform(valid_X)"
   ]
  },
  {
   "cell_type": "code",
   "execution_count": 8,
   "id": "cc829f7c",
   "metadata": {},
   "outputs": [
    {
     "data": {
      "text/plain": [
       "LinearRegression()"
      ]
     },
     "execution_count": 8,
     "metadata": {},
     "output_type": "execute_result"
    }
   ],
   "source": [
    "data_lm = LinearRegression()\n",
    "\n",
    "data_lm.fit(train_X, train_y)"
   ]
  },
  {
   "cell_type": "code",
   "execution_count": 9,
   "id": "e7584fd4",
   "metadata": {},
   "outputs": [
    {
     "name": "stdout",
     "output_type": "stream",
     "text": [
      "intercept  73984.69301464407\n",
      "                        Predictor   coefficient\n",
      "0                         q2_2018  1.943479e+04\n",
      "1                         q3_2018  2.229749e+04\n",
      "2                         q4_2018  5.784488e+04\n",
      "3                         q1_2019  7.930519e+04\n",
      "4                   Type_AO CHEWY  4.644499e+03\n",
      "5           Type_ASSORTMENT MIXES -1.130840e+02\n",
      "6                 Type_CANDY CANE  4.258224e+03\n",
      "7                 Type_CANDY CORN  2.122071e+03\n",
      "8        Type_CONVERSATION HEARTS -8.558365e+02\n",
      "9               Type_FRUITY CHEWY  6.579439e+03\n",
      "10                     Type_GUMMY  9.142013e+03\n",
      "11                Type_HARD CANDY  3.861653e+03\n",
      "12               Type_JELLY BEANS  2.645430e+03\n",
      "13                  Type_LICORICE  3.515097e+03\n",
      "14                  Type_LOLLIPOP  4.137588e+03\n",
      "15                   Type_NOVELTY  8.722288e+03\n",
      "16                       Type_NUT -2.804348e+02\n",
      "17  Immediate_vs_Future_IMMEDIATE -1.608447e+16\n",
      "18      Segment_CLASSIC FAVORITES -3.880819e+03\n",
      "19                 Segment_ETHNIC -7.620554e+02\n",
      "20                  Segment_GUMMY -3.878095e+03\n",
      "21           Segment_KIDS NOVELTY -5.555672e+03\n",
      "22               Segment_LICORICE -2.823455e+03\n",
      "23               Segment_MAINLINE -1.811117e+02\n",
      "24         Segment_NOT APPLICABLE  9.219670e+03\n",
      "25                    Segment_NUT  1.201553e+03\n",
      "26       Segment_SUGAR FREE CANDY  1.258539e+03\n",
      "27               Package_Type_BOX  3.857219e+02\n",
      "28       Package_Type_CHANGEMAKER  1.111441e+16\n",
      "29       Package_Type_LAYDOWN BAG  4.047183e+03\n",
      "30           Package_Type_PEG BAG  8.590511e+03\n",
      "31        Package_Type_SHARE SIZE  8.848952e+15\n",
      "32       Package_Type_SINGLE SIZE  9.653781e+15\n",
      "33       Package_Type_STANDUP BAG  2.885841e+03\n",
      "34       Package_Type_THEATER BOX  4.778755e+15\n",
      "35               Package_Type_TUB  2.725060e+03\n",
      "36           Mega_Flavor_ASSORTED -1.379653e+03\n",
      "37            Mega_Flavor_CARAMEL -4.527678e+02\n",
      "38              Mega_Flavor_FRUIT -6.970307e+02\n",
      "39                Mega_Flavor_NUT  1.439744e+03\n",
      "40               Mega_Flavor_SOUR  1.326610e+03\n",
      "41           Seasonality_SEASONAL -4.459372e+03\n"
     ]
    }
   ],
   "source": [
    "print('intercept ', data_lm.intercept_)\n",
    "print(pd.DataFrame({'Predictor': X.columns, 'coefficient': data_lm.coef_}))"
   ]
  },
  {
   "cell_type": "code",
   "execution_count": 12,
   "id": "859a1c1e",
   "metadata": {},
   "outputs": [
    {
     "name": "stdout",
     "output_type": "stream",
     "text": [
      "\n",
      "Regression statistics\n",
      "\n",
      "                      Mean Error (ME) : -909.2199\n",
      "       Root Mean Squared Error (RMSE) : 105983.1605\n",
      "            Mean Absolute Error (MAE) : 34865.8249\n",
      "          Mean Percentage Error (MPE) : -1370.1962\n",
      "Mean Absolute Percentage Error (MAPE) : 2285.9623\n"
     ]
    }
   ],
   "source": [
    "#First predictive model performance\n",
    "data_lm_pred = data_lm.predict(valid_X)\n",
    "\n",
    "regressionSummary(valid_y, data_lm_pred)"
   ]
  },
  {
   "cell_type": "code",
   "execution_count": 11,
   "id": "4037428c",
   "metadata": {},
   "outputs": [],
   "source": [
    "#Second predictive linear model\n",
    "lambda_val = 35000\n",
    "\n",
    "data_lasso = Lasso(alpha = lambda_val)\n",
    "\n",
    "data_lasso.fit(train_X, train_y)\n",
    "\n",
    "data_lasso_predict = data_lasso.predict(valid_X)"
   ]
  },
  {
   "cell_type": "code",
   "execution_count": 19,
   "id": "2191f1dd",
   "metadata": {},
   "outputs": [
    {
     "ename": "NameError",
     "evalue": "name 'lambdas' is not defined",
     "output_type": "error",
     "traceback": [
      "\u001b[1;31m---------------------------------------------------------------------------\u001b[0m",
      "\u001b[1;31mNameError\u001b[0m                                 Traceback (most recent call last)",
      "\u001b[1;32m~\\AppData\\Local\\Temp/ipykernel_896/2337912107.py\u001b[0m in \u001b[0;36m<module>\u001b[1;34m\u001b[0m\n\u001b[0;32m      4\u001b[0m \u001b[1;31m# Fit lasso regression for each lambda, save coefficients\u001b[0m\u001b[1;33m\u001b[0m\u001b[1;33m\u001b[0m\u001b[0m\n\u001b[0;32m      5\u001b[0m \u001b[0mcoefs\u001b[0m \u001b[1;33m=\u001b[0m \u001b[1;33m[\u001b[0m\u001b[1;33m]\u001b[0m\u001b[1;33m\u001b[0m\u001b[1;33m\u001b[0m\u001b[0m\n\u001b[1;32m----> 6\u001b[1;33m \u001b[1;32mfor\u001b[0m \u001b[0mval\u001b[0m \u001b[1;32min\u001b[0m \u001b[0mlambdas\u001b[0m\u001b[1;33m:\u001b[0m\u001b[1;33m\u001b[0m\u001b[1;33m\u001b[0m\u001b[0m\n\u001b[0m\u001b[0;32m      7\u001b[0m     \u001b[0mdata_lasso\u001b[0m \u001b[1;33m=\u001b[0m \u001b[0mLasso\u001b[0m\u001b[1;33m(\u001b[0m\u001b[0malpha\u001b[0m \u001b[1;33m=\u001b[0m \u001b[0mval\u001b[0m\u001b[1;33m)\u001b[0m\u001b[1;33m\u001b[0m\u001b[1;33m\u001b[0m\u001b[0m\n\u001b[0;32m      8\u001b[0m     \u001b[0mdata_lasso\u001b[0m\u001b[1;33m.\u001b[0m\u001b[0mfit\u001b[0m\u001b[1;33m(\u001b[0m\u001b[0mtrain_X\u001b[0m\u001b[1;33m,\u001b[0m \u001b[0mtrain_y\u001b[0m\u001b[1;33m)\u001b[0m\u001b[1;33m\u001b[0m\u001b[1;33m\u001b[0m\u001b[0m\n",
      "\u001b[1;31mNameError\u001b[0m: name 'lambdas' is not defined"
     ]
    }
   ],
   "source": [
    "# Set lambdas\n",
    "lambda_val = 35000\n",
    "\n",
    "# Fit lasso regression for each lambda, save coefficients\n",
    "coefs = []\n",
    "for val in lambdas:\n",
    "    data_lasso = Lasso(alpha = val)\n",
    "    data_lasso.fit(train_X, train_y)\n",
    "    coefs.append(data_lasso.coef_)\n",
    "    \n",
    "    \n",
    "fig, ax = plt.subplots(figsize=(30, 20))\n",
    "\n",
    "ax.plot(lambdas, coefs, marker=\"o\")\n",
    "ax.set_xscale('log')\n",
    "plt.xlabel('lambda')\n",
    "plt.ylabel('Coefficients (beta hats)')\n",
    "plt.title('Lasso coefficients as a function of choice of lambda')\n",
    "plt.axis('tight')"
   ]
  },
  {
   "cell_type": "code",
   "execution_count": 20,
   "id": "c15f82e8",
   "metadata": {},
   "outputs": [
    {
     "name": "stdout",
     "output_type": "stream",
     "text": [
      "\n",
      "Regression statistics\n",
      "\n",
      "                      Mean Error (ME) : 427.6519\n",
      "       Root Mean Squared Error (RMSE) : 112660.8668\n",
      "            Mean Absolute Error (MAE) : 45118.2497\n",
      "          Mean Percentage Error (MPE) : -4290.8230\n",
      "Mean Absolute Percentage Error (MAPE) : 4302.9991\n"
     ]
    }
   ],
   "source": [
    "regressionSummary(valid_y, data_lasso_predict)\n"
   ]
  },
  {
   "cell_type": "code",
   "execution_count": 21,
   "id": "4a2979f7",
   "metadata": {},
   "outputs": [
    {
     "name": "stdout",
     "output_type": "stream",
     "text": [
      "Index(['Type', 'Immediate_vs_Future', 'Segment', 'Package_Type', 'Mega_Flavor',\n",
      "       'Seasonality', 'q2_2018', 'q3_2018', 'q4_2018', 'q1_2019'],\n",
      "      dtype='object')\n",
      "10\n"
     ]
    }
   ],
   "source": [
    "#Tree based model\n",
    "X = data_df.drop(columns=['sales'])\n",
    "y = data_df['sales']\n",
    "\n",
    "print(X.columns)\n",
    "print(len(X.columns))"
   ]
  },
  {
   "cell_type": "code",
   "execution_count": null,
   "id": "2b70490d",
   "metadata": {},
   "outputs": [],
   "source": []
  },
  {
   "cell_type": "code",
   "execution_count": 22,
   "id": "6c2e7e9c",
   "metadata": {},
   "outputs": [
    {
     "name": "stdout",
     "output_type": "stream",
     "text": [
      "Index(['q2_2018', 'q3_2018', 'q4_2018', 'q1_2019', 'Type_ALL OTHER',\n",
      "       'Type_AO CHEWY', 'Type_ASSORTMENT MIXES', 'Type_CANDY CANE',\n",
      "       'Type_CANDY CORN', 'Type_CONVERSATION HEARTS', 'Type_FRUITY CHEWY',\n",
      "       'Type_GUMMY', 'Type_HARD CANDY', 'Type_JELLY BEANS', 'Type_LICORICE',\n",
      "       'Type_LOLLIPOP', 'Type_NOVELTY', 'Type_NUT',\n",
      "       'Immediate_vs_Future_FUTURE', 'Immediate_vs_Future_IMMEDIATE',\n",
      "       'Segment_ASSORTMENT MIXES', 'Segment_CLASSIC FAVORITES',\n",
      "       'Segment_ETHNIC', 'Segment_GUMMY', 'Segment_KIDS NOVELTY',\n",
      "       'Segment_LICORICE', 'Segment_MAINLINE', 'Segment_NOT APPLICABLE',\n",
      "       'Segment_NUT', 'Segment_SUGAR FREE CANDY', 'Package_Type_ALL OTHER',\n",
      "       'Package_Type_BOX', 'Package_Type_CHANGEMAKER',\n",
      "       'Package_Type_LAYDOWN BAG', 'Package_Type_PEG BAG',\n",
      "       'Package_Type_SHARE SIZE', 'Package_Type_SINGLE SIZE',\n",
      "       'Package_Type_STANDUP BAG', 'Package_Type_THEATER BOX',\n",
      "       'Package_Type_TUB', 'Mega_Flavor_ALL OTHER', 'Mega_Flavor_ASSORTED',\n",
      "       'Mega_Flavor_CARAMEL', 'Mega_Flavor_FRUIT', 'Mega_Flavor_NUT',\n",
      "       'Mega_Flavor_SOUR', 'Seasonality_EVERYDAY', 'Seasonality_SEASONAL'],\n",
      "      dtype='object')\n"
     ]
    },
    {
     "data": {
      "text/plain": [
       "48"
      ]
     },
     "execution_count": 22,
     "metadata": {},
     "output_type": "execute_result"
    }
   ],
   "source": [
    "X = pd.get_dummies(X, drop_first = False)\n",
    "\n",
    "print(X.columns)\n",
    "len(X.columns)"
   ]
  },
  {
   "cell_type": "code",
   "execution_count": 23,
   "id": "68e8c98c",
   "metadata": {},
   "outputs": [],
   "source": [
    "train_X, valid_X, train_y, valid_y = train_test_split(X, y, test_size =.5,random_state =1 )\n"
   ]
  },
  {
   "cell_type": "code",
   "execution_count": null,
   "id": "d9068179",
   "metadata": {},
   "outputs": [],
   "source": [
    "param_grid = {\n",
    "    'n_estimators': [210], \n",
    "    'max_depth' : [5],\n",
    "    'criterion' : ['mae'],\n",
    "    'oob_score': [True],\n",
    "    'min_impurity_decrease': [0.001], \n",
    "    'min_samples_split': [5], \n",
    "    'min_samples_leaf':[2],\n",
    "    'random_state':[1],\n",
    "}"
   ]
  },
  {
   "cell_type": "code",
   "execution_count": null,
   "id": "2a1626f9",
   "metadata": {},
   "outputs": [],
   "source": [
    "gridSearch = GridSearchCV(RandomForestRegressor(), param_grid, cv=2, n_jobs=12)\n",
    "\n",
    "gridSearch.fit(train_X, train_y)"
   ]
  },
  {
   "cell_type": "code",
   "execution_count": null,
   "id": "f985a722",
   "metadata": {},
   "outputs": [],
   "source": [
    "print('Initial parameters: ', gridSearch.best_params_)\n",
    "\n",
    "rfTree = gridSearch.best_estimator_\n",
    "\n",
    "rfTree.oob_score_"
   ]
  },
  {
   "cell_type": "code",
   "execution_count": null,
   "id": "b7631d31",
   "metadata": {},
   "outputs": [],
   "source": [
    "smallClassTree = DecisionTreeRegressor(random_state=1,max_depth=5, min_samples_split=5, min_impurity_decrease=0.001)\n",
    "\n",
    "smallClassTree.fit(train_X, train_y)\n",
    "\n",
    "rf = RandomForestRegressor(n_estimators= 210, random_state=1)\n",
    "rf.fit(valid_X, valid_y)\n",
    "\n",
    "plotDecisionTree(smallClassTree, feature_names=train_X.columns)"
   ]
  }
 ],
 "metadata": {
  "kernelspec": {
   "display_name": "Python 3 (ipykernel)",
   "language": "python",
   "name": "python3"
  },
  "language_info": {
   "codemirror_mode": {
    "name": "ipython",
    "version": 3
   },
   "file_extension": ".py",
   "mimetype": "text/x-python",
   "name": "python",
   "nbconvert_exporter": "python",
   "pygments_lexer": "ipython3",
   "version": "3.9.7"
  }
 },
 "nbformat": 4,
 "nbformat_minor": 5
}
